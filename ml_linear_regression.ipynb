{
  "nbformat": 4,
  "nbformat_minor": 0,
  "metadata": {
    "colab": {
      "provenance": [],
      "authorship_tag": "ABX9TyOcpcddOH4KMIVpJQ3ENWjy",
      "include_colab_link": true
    },
    "kernelspec": {
      "name": "python3",
      "display_name": "Python 3"
    },
    "language_info": {
      "name": "python"
    }
  },
  "cells": [
    {
      "cell_type": "markdown",
      "metadata": {
        "id": "view-in-github",
        "colab_type": "text"
      },
      "source": [
        "<a href=\"https://colab.research.google.com/github/OMGUPTA21/it/blob/main/ml_linear_regression.ipynb\" target=\"_parent\"><img src=\"https://colab.research.google.com/assets/colab-badge.svg\" alt=\"Open In Colab\"/></a>"
      ]
    },
    {
      "cell_type": "code",
      "execution_count": 8,
      "metadata": {
        "colab": {
          "base_uri": "https://localhost:8080/"
        },
        "id": "CPwwscyNfV9y",
        "outputId": "0dfb9d71-a5fc-4421-d31d-eba0cbf7666f"
      },
      "outputs": [
        {
          "output_type": "stream",
          "name": "stdout",
          "text": [
            "Mean squared error is:   1826.4841712795046\n",
            "Weights:   [  -1.16678648 -237.18123633  518.31283524  309.04204042 -763.10835067\n",
            "  458.88378916   80.61107395  174.31796962  721.48087773   79.1952801 ]\n",
            "Intercept:   153.05824267739402\n"
          ]
        }
      ],
      "source": [
        "import matplotlib.pyplot as plt\n",
        "import numpy as np\n",
        "from sklearn import datasets, linear_model\n",
        "from sklearn.metrics import mean_squared_error\n",
        "\n",
        "#diabetes_X  =  diabetes.data[:,np.newaxis,2]\n",
        "diabetes = datasets.load_diabetes()\n",
        "diabetes_X  =  diabetes.data\n",
        "\n",
        "diabetes_X_train  = diabetes_X[:-30]\n",
        "diabetes_X_test = diabetes_X[-30:]\n",
        "\n",
        "diabetes_y_train  = diabetes.target[:-30]\n",
        "diabetes_y_test = diabetes.target[-30:]\n",
        "\n",
        "model = linear_model.LinearRegression()\n",
        "#creating Regression model...\n",
        "#fitting the model..\n",
        "model.fit(diabetes_X_train, diabetes_y_train)\n",
        "#predicting the model..\n",
        "diabetes_y_predicted = model.predict(diabetes_X_test)\n",
        "\n",
        "print(\"Mean squared error is:  \", mean_squared_error(diabetes_y_test, diabetes_y_predicted))\n",
        "print(\"Weights:  \",  model.coef_)\n",
        "print(\"Intercept:  \",  model.intercept_)\n",
        "\n",
        "#plt.scatter(diabetes_X_test, diabetes_y_test)\n",
        "#plt.plot(diabetes_X_test, diabetes_y_predicted)\n",
        "#plt.show()\n",
        "\n",
        "\n"
      ]
    }
  ]
}